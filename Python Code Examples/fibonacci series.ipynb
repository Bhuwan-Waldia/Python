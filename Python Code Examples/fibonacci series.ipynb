{
 "cells": [
  {
   "cell_type": "code",
   "execution_count": 1,
   "id": "7d73eb70",
   "metadata": {},
   "outputs": [
    {
     "name": "stdout",
     "output_type": "stream",
     "text": [
      "the first 11 Fibonnaci Series are , [0, 1, 1, 2, 3, 5, 8, 13, 21, 34, 55]\n"
     ]
    }
   ],
   "source": [
    "#fibonacci series\n",
    "n = 11\n",
    "a = 0\n",
    "b = 1\n",
    "fib_n = []\n",
    "for i in range(n):\n",
    "    fib_n.append(a)\n",
    "    a,b = b,a+b\n",
    "    \n",
    "print(f\"the first {n} Fibonnaci Series are , {fib_n}\")"
   ]
  },
  {
   "cell_type": "code",
   "execution_count": 2,
   "id": "801984f4",
   "metadata": {},
   "outputs": [
    {
     "name": "stdout",
     "output_type": "stream",
     "text": [
      "0 1 1 2 3 5 8 13 21 "
     ]
    }
   ],
   "source": [
    "#Recursion\n",
    "def fib(n):\n",
    "    if n ==0:\n",
    "        return 0\n",
    "    elif n ==1:\n",
    "        return 1\n",
    "    else:\n",
    "        return (fib(n-1) + fib(n-2))\n",
    "n = 9\n",
    "for i in range(n):    \n",
    "    print(fib(i),end= \" \")   "
   ]
  },
  {
   "cell_type": "code",
   "execution_count": null,
   "id": "863823ca",
   "metadata": {},
   "outputs": [],
   "source": []
  }
 ],
 "metadata": {
  "kernelspec": {
   "display_name": "Python 3 (ipykernel)",
   "language": "python",
   "name": "python3"
  },
  "language_info": {
   "codemirror_mode": {
    "name": "ipython",
    "version": 3
   },
   "file_extension": ".py",
   "mimetype": "text/x-python",
   "name": "python",
   "nbconvert_exporter": "python",
   "pygments_lexer": "ipython3",
   "version": "3.10.5"
  }
 },
 "nbformat": 4,
 "nbformat_minor": 5
}
