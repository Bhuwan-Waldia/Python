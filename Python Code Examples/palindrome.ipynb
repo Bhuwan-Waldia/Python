{
 "cells": [
  {
   "cell_type": "code",
   "execution_count": 1,
   "id": "a995e647",
   "metadata": {},
   "outputs": [
    {
     "name": "stdout",
     "output_type": "stream",
     "text": [
      "it is a Palindrone\n"
     ]
    }
   ],
   "source": [
    "# palindron\n",
    "\n",
    "def palindron(s):\n",
    "    \n",
    "    rev = s[::-1]\n",
    "    if s == rev:\n",
    "        print(\"it is a Palindrone\")\n",
    "    else:\n",
    "        print(\"Not a palindrone\")\n",
    "        \n",
    "palindron(\"madam\")\n",
    "    "
   ]
  },
  {
   "cell_type": "code",
   "execution_count": 2,
   "id": "92108d0f",
   "metadata": {},
   "outputs": [
    {
     "data": {
      "text/plain": [
       "True"
      ]
     },
     "execution_count": 2,
     "metadata": {},
     "output_type": "execute_result"
    }
   ],
   "source": [
    "# by using a indexing\n",
    "def pelind2(k):\n",
    "    n = len(k)\n",
    "    for i in range(n):\n",
    "        if k[i] != k[n-i-1]:\n",
    "            return False\n",
    "        return True\n",
    "pelind2(\"101\")"
   ]
  },
  {
   "cell_type": "code",
   "execution_count": 3,
   "id": "9ff805b6",
   "metadata": {},
   "outputs": [
    {
     "data": {
      "text/plain": [
       "False"
      ]
     },
     "execution_count": 3,
     "metadata": {},
     "output_type": "execute_result"
    }
   ],
   "source": [
    "# by using a while loop\n",
    "def palindrone3(s):\n",
    "    n = len(s)\n",
    "    first = 0\n",
    "    last = n-1\n",
    "    while(first<last):\n",
    "        if s[first] == s[last]:\n",
    "            first += 1\n",
    "            last -= 1\n",
    "        else:\n",
    "            return False\n",
    "        return True\n",
    "    \n",
    "palindrone3(\"oroa\")"
   ]
  },
  {
   "cell_type": "code",
   "execution_count": 4,
   "id": "2187683f",
   "metadata": {},
   "outputs": [
    {
     "data": {
      "text/plain": [
       "True"
      ]
     },
     "execution_count": 4,
     "metadata": {},
     "output_type": "execute_result"
    }
   ],
   "source": [
    "#for numeric\n",
    "def palindrome5(n):\n",
    "    temp = n\n",
    "    rev_n = 0\n",
    "    while(temp>0):\n",
    "        digit = temp%10\n",
    "        rev_n = rev_n*10 + digit\n",
    "        temp = temp//10\n",
    "    if n == rev_n:\n",
    "        return True\n",
    "    else:\n",
    "        return False\n",
    "    \n",
    "palindrome5(123321)"
   ]
  },
  {
   "cell_type": "code",
   "execution_count": null,
   "id": "ed15aa6b",
   "metadata": {},
   "outputs": [],
   "source": []
  }
 ],
 "metadata": {
  "kernelspec": {
   "display_name": "Python 3 (ipykernel)",
   "language": "python",
   "name": "python3"
  },
  "language_info": {
   "codemirror_mode": {
    "name": "ipython",
    "version": 3
   },
   "file_extension": ".py",
   "mimetype": "text/x-python",
   "name": "python",
   "nbconvert_exporter": "python",
   "pygments_lexer": "ipython3",
   "version": "3.10.5"
  }
 },
 "nbformat": 4,
 "nbformat_minor": 5
}
