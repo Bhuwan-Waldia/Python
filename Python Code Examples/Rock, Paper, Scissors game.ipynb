{
 "cells": [
  {
   "cell_type": "code",
   "execution_count": 3,
   "id": "eee1992b",
   "metadata": {},
   "outputs": [
    {
     "name": "stdout",
     "output_type": "stream",
     "text": [
      "======= Welcome to the game =======\n",
      "Please enter Rock, Paper, or Scissors below: \n",
      "paper\n",
      "you win ! your opponent chose 'Rock' \n"
     ]
    }
   ],
   "source": [
    "# Write a Python program that simulates the \"Rock, Paper, Scissors\" game.\n",
    "\n",
    "# The game should ask the user to enter an option (either \"Rock\", \"Paper\", or \"Scissors\").\n",
    "\n",
    "import random\n",
    "\n",
    "options = (\"rock\", \"Paper\" , \"Scissors\")\n",
    "computer = options[random.randint(0,2)]\n",
    "\n",
    "print(\"======= Welcome to the game =======\")\n",
    "player = input(\"Please enter Rock, Paper, or Scissors below: \\n\")\n",
    "\n",
    "if player.lower() == computer:\n",
    "    print(\"its a tie ! Try again.\")\n",
    "    \n",
    "    \n",
    "elif player.lower() == \"rock\":\n",
    "    if computer == \"paper\":\n",
    "        print(\"you lose ! your opponent chose 'paper' \")\n",
    "    else:\n",
    "        print(\"you win ! your opponent chose 'scissors' \")\n",
    "        \n",
    "        \n",
    "        \n",
    "elif player.lower() == \"paper\":\n",
    "    if computer == \"Scissors\":\n",
    "        print(\"you lose ! your opponent chose 'Scissors' \")\n",
    "    else:\n",
    "        print(\"you win ! your opponent chose 'Rock' \")\n",
    "        \n",
    "        \n",
    "        \n",
    "elif player.lower() == \"scissors\":\n",
    "    if computer == \"rock\":\n",
    "        print(\"you lose ! your opponent chose 'Rock' \")\n",
    "    else:\n",
    "        print(\"you win ! your opponent chose 'Paper' \")\n",
    "        \n",
    "        \n",
    "else:\n",
    "    print(\"Please enter a valid option\")\n",
    "        "
   ]
  }
 ],
 "metadata": {
  "kernelspec": {
   "display_name": "Python 3 (ipykernel)",
   "language": "python",
   "name": "python3"
  },
  "language_info": {
   "codemirror_mode": {
    "name": "ipython",
    "version": 3
   },
   "file_extension": ".py",
   "mimetype": "text/x-python",
   "name": "python",
   "nbconvert_exporter": "python",
   "pygments_lexer": "ipython3",
   "version": "3.10.5"
  }
 },
 "nbformat": 4,
 "nbformat_minor": 5
}
