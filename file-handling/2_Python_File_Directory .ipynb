{
 "cells": [
  {
   "cell_type": "markdown",
   "metadata": {},
   "source": [
    "# Python Directory and Files Management\n",
    "\n",
    " file and directory management in Python, i.e. creating a directory, renaming it, listing all directories, and working with them.\n",
    "\n",
    "## Python Directory\n",
    "\n",
    "If there are a large number of **[files](https://github.com/milaan9/05_Python_Files/blob/main/001_Python_File_Input_Output.ipynb)** to handle in our Python program, we can arrange our code within different directories to make things more manageable.\n",
    "\n",
    "A directory or folder is a collection of files and subdirectories. Python has the **`os`** **[module](https://github.com/milaan9/04_Python_Functions/blob/main/007_Python_Function_Module.ipynb)** that provides us with many useful methods to work with directories (and files as well)."
   ]
  },
  {
   "cell_type": "markdown",
   "metadata": {},
   "source": [
    "## Get Current Directory `getcwd()` - \n",
    "\n",
    "We can get the present working directory using the **`getcwd()`** method of the os module.\n",
    "\n",
    "This method returns the current working directory in the form of a string. We can also use the **`getcwd()`** method to get it as bytes object."
   ]
  },
  {
   "cell_type": "code",
   "execution_count": 1,
   "metadata": {},
   "outputs": [
    {
     "name": "stdout",
     "output_type": "stream",
     "text": [
      "E:\\Data-py\n"
     ]
    }
   ],
   "source": [
    "import os\n",
    "print(os.getcwd())"
   ]
  },
  {
   "cell_type": "code",
   "execution_count": 8,
   "metadata": {},
   "outputs": [
    {
     "data": {
      "text/plain": [
       "'E:\\\\Data-py'"
      ]
     },
     "execution_count": 8,
     "metadata": {},
     "output_type": "execute_result"
    }
   ],
   "source": [
    "import os\n",
    "os.getcwd()"
   ]
  },
  {
   "cell_type": "code",
   "execution_count": 6,
   "metadata": {
    "ExecuteTime": {
     "end_time": "2021-06-18T15:35:20.242197Z",
     "start_time": "2021-06-18T15:35:20.220713Z"
    }
   },
   "outputs": [
    {
     "data": {
      "text/plain": [
       "b'E:\\\\Data-py'"
      ]
     },
     "execution_count": 6,
     "metadata": {},
     "output_type": "execute_result"
    }
   ],
   "source": [
    "#os.getcwdb() method in Python is bytes version of os.getcwd() method. This method returns current working directory (CWD).\n",
    "import os\n",
    "os.getcwdb()"
   ]
  },
  {
   "cell_type": "markdown",
   "metadata": {},
   "source": [
    "The extra backslash implies an escape sequence. The **`print()`** function will render this properly."
   ]
  },
  {
   "cell_type": "markdown",
   "metadata": {},
   "source": [
    "## Changing Directory `chdir()` - \n",
    "\n",
    "We can change the current working directory by using the **`chdir()`** method.\n",
    "\n",
    "The new path that we want to change into must be supplied as a string to this method. We can use both the forward-slash **`/`** or the backward-slash **`\\`** to separate the path elements.\n",
    "\n",
    "It is safer to use an escape sequence when using the backward slash.\n",
    "\n",
    "**Syntax:**\n",
    "\n",
    "**`os.chdir(\"newdir\")`**\n",
    "\n",
    ">**Remember to**: \n",
    "1. First copy the path for current working directory \n",
    "2. Windows user and MacOS users, first create an empty folder with name \"**abc**\" on your desktop."
   ]
  },
  {
   "cell_type": "code",
   "execution_count": 11,
   "metadata": {
    "ExecuteTime": {
     "end_time": "2021-06-18T15:35:41.789882Z",
     "start_time": "2021-06-18T15:35:41.773772Z"
    }
   },
   "outputs": [
    {
     "name": "stdout",
     "output_type": "stream",
     "text": [
      "Directory changed\n",
      "C:\\sonder\\abc\n"
     ]
    }
   ],
   "source": [
    "import os\n",
    "\n",
    "# Changing a directory to \"C:\\sonder\\abc\"\n",
    "os.chdir(r\"C:\\sonder\\abc\") \n",
    "  \n",
    "print(\"Directory changed\") \n",
    "\n",
    "print(os.getcwd())"
   ]
  },
  {
   "cell_type": "code",
   "execution_count": 12,
   "metadata": {
    "ExecuteTime": {
     "end_time": "2021-06-18T15:35:44.970521Z",
     "start_time": "2021-06-18T15:35:44.950018Z"
    }
   },
   "outputs": [
    {
     "name": "stdout",
     "output_type": "stream",
     "text": [
      "C:\\sonder\\abc\n"
     ]
    }
   ],
   "source": [
    "import os\n",
    "print(os.getcwd())"
   ]
  },
  {
   "cell_type": "code",
   "execution_count": 14,
   "metadata": {
    "ExecuteTime": {
     "end_time": "2021-06-18T15:35:45.765437Z",
     "start_time": "2021-06-18T15:35:45.749818Z"
    }
   },
   "outputs": [
    {
     "name": "stdout",
     "output_type": "stream",
     "text": [
      "Directory changed\n"
     ]
    },
    {
     "data": {
      "text/plain": [
       "'E:\\\\Data-py'"
      ]
     },
     "execution_count": 14,
     "metadata": {},
     "output_type": "execute_result"
    }
   ],
   "source": [
    "import os\n",
    "\n",
    "# Changing a directory back to original directory \"E:\\\\Data-py\"\n",
    "os.chdir(r\"E:\\\\Data-py\") \n",
    "  \n",
    "print(\"Directory changed\") \n",
    "os.getcwd()"
   ]
  },
  {
   "cell_type": "markdown",
   "metadata": {},
   "source": [
    "### List Directories and Files `listdir()` - \n",
    "\n",
    "The **`listdir()`** method displays all files and sub-directories inside a directory.\n",
    "\n",
    "This method takes in a path and returns a list of subdirectories and files in that path. If no path is specified, it returns the list of subdirectories and files from the current working directory."
   ]
  },
  {
   "cell_type": "code",
   "execution_count": 16,
   "metadata": {
    "ExecuteTime": {
     "end_time": "2021-06-18T15:35:50.849874Z",
     "start_time": "2021-06-18T15:35:50.830348Z"
    }
   },
   "outputs": [
    {
     "name": "stdout",
     "output_type": "stream",
     "text": [
      "E:\\Data-py\n"
     ]
    },
    {
     "data": {
      "text/plain": [
       "['.ipynb_checkpoints',\n",
       " '002_Python_File_Directory (1).ipynb',\n",
       " 'check',\n",
       " 'class_object',\n",
       " 'random_csv_xlxl_rawdata',\n",
       " 'RIO',\n",
       " 'sergio',\n",
       " 'V- ASSIGNMENT']"
      ]
     },
     "execution_count": 16,
     "metadata": {},
     "output_type": "execute_result"
    }
   ],
   "source": [
    "print(os.getcwd())\n",
    "\n",
    "os.listdir()"
   ]
  },
  {
   "cell_type": "code",
   "execution_count": 20,
   "metadata": {},
   "outputs": [
    {
     "data": {
      "text/plain": [
       "['$RECYCLE.BIN',\n",
       " 'Data-py',\n",
       " 'Eleutheromania',\n",
       " 'filter_FILTER',\n",
       " 'MIX-COLL',\n",
       " 'System Volume Information']"
      ]
     },
     "execution_count": 20,
     "metadata": {},
     "output_type": "execute_result"
    }
   ],
   "source": [
    "os.listdir(\"e:\\\\\")"
   ]
  },
  {
   "cell_type": "markdown",
   "metadata": {},
   "source": [
    "## Check files exist or not"
   ]
  },
  {
   "cell_type": "code",
   "execution_count": 39,
   "metadata": {},
   "outputs": [
    {
     "data": {
      "text/plain": [
       "True"
      ]
     },
     "execution_count": 39,
     "metadata": {},
     "output_type": "execute_result"
    }
   ],
   "source": [
    "import os\n",
    "os.path.exists(r\"E:\\Data-py\\bandit1\") # Output :\" True and False\""
   ]
  },
  {
   "cell_type": "markdown",
   "metadata": {},
   "source": [
    "## Making a New Directory `mkdir()` - \n",
    "\n",
    "You can use the **`mkdir()`** method of the os module to create directories in the current directory. You need to supply an argument to this method, which contains the name of the directory to be created.\n",
    "\n",
    "This method takes in the path of the new directory. If the full path is not specified, the new directory is created in the current working directory.\n",
    "\n",
    "**Syntax:**\n",
    "\n",
    "**`os.mkdir(\"dir_name\")`**"
   ]
  },
  {
   "cell_type": "code",
   "execution_count": null,
   "metadata": {},
   "outputs": [],
   "source": []
  },
  {
   "cell_type": "code",
   "execution_count": 23,
   "metadata": {},
   "outputs": [
    {
     "name": "stdout",
     "output_type": "stream",
     "text": [
      "Directory created\n"
     ]
    },
    {
     "data": {
      "text/plain": [
       "['.ipynb_checkpoints',\n",
       " '002_Python_File_Directory (1).ipynb',\n",
       " 'check',\n",
       " 'class_object',\n",
       " 'CN1',\n",
       " 'CNN',\n",
       " 'random_csv_xlxl_rawdata',\n",
       " 'RIO',\n",
       " 'sergio',\n",
       " 'V- ASSIGNMENT']"
      ]
     },
     "execution_count": 23,
     "metadata": {},
     "output_type": "execute_result"
    }
   ],
   "source": [
    "import os\n",
    "os.mkdir(\"CN1\")\n",
    "print(\"Directory created\")\n",
    "\n",
    "os.listdir()"
   ]
  },
  {
   "cell_type": "markdown",
   "metadata": {},
   "source": [
    "## Renaming a Directory or a File `rename()` - \n",
    "\n",
    "The **`rename()`** method can rename a directory or a file.\n",
    "\n",
    "**Syntax:**\n",
    "\n",
    "**`os.rename(current_file_name, new_file_name)`**"
   ]
  },
  {
   "cell_type": "code",
   "execution_count": 26,
   "metadata": {},
   "outputs": [
    {
     "name": "stdout",
     "output_type": "stream",
     "text": [
      "['.ipynb_checkpoints', '002_Python_File_Directory (1).ipynb', 'check', 'class_object', 'CNN', 'Pekka', 'random_csv_xlxl_rawdata', 'RIO', 'sergio', 'V- ASSIGNMENT']\n",
      "Directory Created\n"
     ]
    },
    {
     "data": {
      "text/plain": [
       "['.ipynb_checkpoints',\n",
       " '002_Python_File_Directory (1).ipynb',\n",
       " 'bandit1',\n",
       " 'check',\n",
       " 'class_object',\n",
       " 'CNN',\n",
       " 'random_csv_xlxl_rawdata',\n",
       " 'RIO',\n",
       " 'sergio',\n",
       " 'V- ASSIGNMENT']"
      ]
     },
     "execution_count": 26,
     "metadata": {},
     "output_type": "execute_result"
    }
   ],
   "source": [
    "print(os.listdir())\n",
    "\n",
    "os.rename(\"pekka\",\"bandit1\")\n",
    "print(\"Directory Created\")\n",
    "\n",
    "os.listdir()"
   ]
  },
  {
   "cell_type": "code",
   "execution_count": 28,
   "metadata": {},
   "outputs": [
    {
     "name": "stdout",
     "output_type": "stream",
     "text": [
      "file renamed\n"
     ]
    }
   ],
   "source": [
    "import os\n",
    "os.rename(\"cat.rtf\",\"bruno.rtf\") #.txt , .text, file type\n",
    "\n",
    "print(\"file renamed\")"
   ]
  },
  {
   "cell_type": "markdown",
   "metadata": {},
   "source": [
    "## Removing a Directory or a File `remove()` and `rmdir()` - \n",
    "\n",
    "A file can be removed (deleted) using the **`remove()`** method.\n",
    "Similarly, the **`rmdir()`** method removes an empty directory. Before removing a directory, all the contents in it should be removed."
   ]
  },
  {
   "cell_type": "code",
   "execution_count": 29,
   "metadata": {},
   "outputs": [
    {
     "name": "stdout",
     "output_type": "stream",
     "text": [
      "Directory deleted\n"
     ]
    },
    {
     "data": {
      "text/plain": [
       "['.ipynb_checkpoints',\n",
       " '002_Python_File_Directory (1).ipynb',\n",
       " 'bandit1',\n",
       " 'bruno.rtf',\n",
       " 'cat.txt.docx',\n",
       " 'check',\n",
       " 'class_object',\n",
       " 'New Rich Text Document.rtf',\n",
       " 'random_csv_xlxl_rawdata',\n",
       " 'RIO',\n",
       " 'sergio',\n",
       " 'V- ASSIGNMENT']"
      ]
     },
     "execution_count": 29,
     "metadata": {},
     "output_type": "execute_result"
    }
   ],
   "source": [
    "import os\n",
    "\n",
    "#this would remove \"\"E:\\Data-py\\CNN\"\" directory\n",
    "os.rmdir(r\"E:\\Data-py\\CNN\")\n",
    "print(\"Directory deleted\")\n",
    "os.listdir()"
   ]
  },
  {
   "cell_type": "code",
   "execution_count": 13,
   "metadata": {
    "ExecuteTime": {
     "end_time": "2021-06-18T15:36:40.443239Z",
     "start_time": "2021-06-18T15:36:40.432499Z"
    },
    "scrolled": true
   },
   "outputs": [
    {
     "name": "stdout",
     "output_type": "stream",
     "text": [
      "file deleted\n"
     ]
    }
   ],
   "source": [
    "import os\n",
    "os.remove('my_data.txt')\n",
    "print(\"file deleted\") "
   ]
  },
  {
   "cell_type": "markdown",
   "metadata": {},
   "source": [
    "## **Note**: The **`rmdir()`** method can only remove empty directories."
   ]
  },
  {
   "cell_type": "markdown",
   "metadata": {},
   "source": [
    "## In order to remove a non-empty directory, we can use the **`rmtree()`** method inside the **`shutil`** module."
   ]
  },
  {
   "cell_type": "code",
   "execution_count": 35,
   "metadata": {},
   "outputs": [
    {
     "name": "stdout",
     "output_type": "stream",
     "text": [
      "all directory created\n"
     ]
    }
   ],
   "source": [
    "#For making multiple directories, we can make use of the os.makedirs () method.\n",
    "import os\n",
    "os.makedirs(\"E:\\Data-py/AAA//bbc//cnn\")\n",
    "print(\"all directory created\")"
   ]
  },
  {
   "cell_type": "code",
   "execution_count": 38,
   "metadata": {},
   "outputs": [
    {
     "data": {
      "text/plain": [
       "['.ipynb_checkpoints',\n",
       " '002_Python_File_Directory (1).ipynb',\n",
       " 'AAA',\n",
       " 'bandit1',\n",
       " 'bruno.rtf',\n",
       " 'cat.txt.docx',\n",
       " 'check',\n",
       " 'class_object',\n",
       " 'New Rich Text Document.rtf',\n",
       " 'random_csv_xlxl_rawdata',\n",
       " 'RIO',\n",
       " 'sergio',\n",
       " 'V- ASSIGNMENT']"
      ]
     },
     "execution_count": 38,
     "metadata": {},
     "output_type": "execute_result"
    }
   ],
   "source": [
    "import shutil\n",
    "\n",
    "shutil.rmtree(r\"E:\\Data-py\\A\")\n",
    "\n",
    "os.listdir()"
   ]
  },
  {
   "cell_type": "markdown",
   "metadata": {},
   "source": [
    "## The “ os.path.join ” is a very important function of the “ os ” module of Python. \n",
    "## This function is utilized to concatenate two or more paths together \n",
    "## into a single integrated path."
   ]
  },
  {
   "cell_type": "code",
   "execution_count": null,
   "metadata": {},
   "outputs": [],
   "source": [
    "#  import os\n",
    "# >>> os.path.join('C:/' , 'programs','myfiles','cat.txt') \n",
    "# 'C:/programs/myfiles/cat.txt'"
   ]
  },
  {
   "cell_type": "code",
   "execution_count": 41,
   "metadata": {},
   "outputs": [
    {
     "data": {
      "text/plain": [
       "'e:/AAA\\\\cat.txt'"
      ]
     },
     "execution_count": 41,
     "metadata": {},
     "output_type": "execute_result"
    }
   ],
   "source": [
    "import os\n",
    "\n",
    "os.path.join(\"e:/\",'AAA','cat.txt')"
   ]
  },
  {
   "cell_type": "markdown",
   "metadata": {},
   "source": [
    "## shutil.copy() function"
   ]
  },
  {
   "cell_type": "markdown",
   "metadata": {},
   "source": [
    "The shutil module offers several functions to perform high-level operations on files and collections of files. \n",
    "The copy() function in this module is used to copy files from one directory to another.\n",
    "First, import the shutil module and Pass a source file path and destination directory path to the copy(src, dst) function."
   ]
  },
  {
   "cell_type": "code",
   "execution_count": null,
   "metadata": {},
   "outputs": [],
   "source": [
    "Sometimes we need to copy an entire folder, including all files and subfolders contained in it.\n",
    "Use the copytree() method of a shutil module\n",
    "to copy the directory recursively."
   ]
  },
  {
   "cell_type": "code",
   "execution_count": 46,
   "metadata": {},
   "outputs": [
    {
     "name": "stdout",
     "output_type": "stream",
     "text": [
      "Copied\n"
     ]
    }
   ],
   "source": [
    "import shutil\n",
    "src_folder = r\"E:\\Data-py\"\n",
    "dst_folder = r\"E:\\Data-py\\AAA\"\n",
    "\n",
    "# file names\n",
    "src_file = src_folder + \"\\cat.txt.docx\"\n",
    "dst_file = dst_folder + \"\\cat.txt.docx\"\n",
    "\n",
    "\n",
    "shutil.copyfile(src_file, dst_file)\n",
    "print(\"Copied\")"
   ]
  },
  {
   "cell_type": "code",
   "execution_count": null,
   "metadata": {},
   "outputs": [],
   "source": []
  }
 ],
 "metadata": {
  "hide_input": false,
  "kernelspec": {
   "display_name": "Python 3 (ipykernel)",
   "language": "python",
   "name": "python3"
  },
  "language_info": {
   "codemirror_mode": {
    "name": "ipython",
    "version": 3
   },
   "file_extension": ".py",
   "mimetype": "text/x-python",
   "name": "python",
   "nbconvert_exporter": "python",
   "pygments_lexer": "ipython3",
   "version": "3.10.5"
  },
  "toc": {
   "base_numbering": 1,
   "nav_menu": {},
   "number_sections": true,
   "sideBar": true,
   "skip_h1_title": false,
   "title_cell": "Table of Contents",
   "title_sidebar": "Contents",
   "toc_cell": false,
   "toc_position": {},
   "toc_section_display": true,
   "toc_window_display": false
  },
  "varInspector": {
   "cols": {
    "lenName": 16,
    "lenType": 16,
    "lenVar": 40
   },
   "kernels_config": {
    "python": {
     "delete_cmd_postfix": "",
     "delete_cmd_prefix": "del ",
     "library": "var_list.py",
     "varRefreshCmd": "print(var_dic_list())"
    },
    "r": {
     "delete_cmd_postfix": ") ",
     "delete_cmd_prefix": "rm(",
     "library": "var_list.r",
     "varRefreshCmd": "cat(var_dic_list()) "
    }
   },
   "types_to_exclude": [
    "module",
    "function",
    "builtin_function_or_method",
    "instance",
    "_Feature"
   ],
   "window_display": false
  }
 },
 "nbformat": 4,
 "nbformat_minor": 2
}
